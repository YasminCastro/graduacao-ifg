{
 "cells": [
  {
   "cell_type": "code",
   "execution_count": 1,
   "id": "5edafb4b",
   "metadata": {
    "scrolled": true
   },
   "outputs": [
    {
     "name": "stdout",
     "output_type": "stream",
     "text": [
      "Requirement already satisfied: gurobipy in c:\\users\\yasmi_jltcq6n\\anaconda3\\lib\\site-packages (10.0.0)\n",
      "Note: you may need to restart the kernel to use updated packages.\n"
     ]
    }
   ],
   "source": [
    "%pip install gurobipy"
   ]
  },
  {
   "cell_type": "code",
   "execution_count": 2,
   "id": "96583794",
   "metadata": {},
   "outputs": [],
   "source": [
    "import pandas as pd\n",
    "\n",
    "import gurobipy as gp\n",
    "from gurobipy import GRB\n"
   ]
  },
  {
   "cell_type": "code",
   "execution_count": 3,
   "id": "eb70ebae",
   "metadata": {},
   "outputs": [],
   "source": [
    "# PARAMETROS\n",
    "\n",
    "nPeriods = 5\n",
    "nTypes = 3\n",
    "maxStart0 = 5\n",
    "\n",
    "## periodo de tempo\n",
    "periodHours = [6, 3, 6, 3, 6]\n",
    "## demanda\n",
    "demand = [15000, 30000, 25000, 40000, 27000]\n",
    "\n",
    "\n",
    "## quantidade de geradores\n",
    "generators = [12, 10, 5]\n",
    "## Saída minima\n",
    "minLoad = [850, 1250, 1500]\n",
    "## Saída maxima\n",
    "maxLoad = [2000, 1750, 4000]\n",
    "\n",
    "##custo por hora\n",
    "perHourCost = [1000, 2600, 3000]\n",
    "##custo por MWh\n",
    "perMWhCost = [2, 1.3, 3]\n",
    "##custo de ligar\n",
    "startupCost = [2000, 1000, 500]"
   ]
  },
  {
   "cell_type": "code",
   "execution_count": 4,
   "id": "5f15ca96",
   "metadata": {},
   "outputs": [
    {
     "name": "stdout",
     "output_type": "stream",
     "text": [
      "Set parameter Username\n",
      "Academic license - for non-commercial use only - expires 2023-11-17\n"
     ]
    }
   ],
   "source": [
    "#VARIAVEIS\n",
    "\n",
    "model = gp.Model('PowerGeneration')\n",
    "ngen = model.addVars(nTypes, nPeriods, vtype=GRB.INTEGER, name=\"ngen\")\n",
    "nstart = model.addVars(nTypes, nPeriods, vtype=GRB.INTEGER, name=\"nstart\")\n",
    "output = model.addVars(nTypes, nPeriods, vtype=GRB.CONTINUOUS, name=\"genoutput\")"
   ]
  },
  {
   "cell_type": "code",
   "execution_count": 5,
   "id": "7833ba88",
   "metadata": {},
   "outputs": [],
   "source": [
    "# RESTRIÇÕES\n",
    "\n",
    "## Geradores disponiveis\n",
    "numgen = model.addConstrs(ngen[type, period] <= generators[type]\n",
    "                         for type in range(nTypes) for period in range(nPeriods))\n",
    "\n",
    "## Limite dos geradores\n",
    "minOutput = model.addConstrs((output[type, period] >= minLoad[type] * ngen[type, period])\n",
    "                              for type in range(nTypes) for period in range(nPeriods))\n",
    "\n",
    "maxOutput = model.addConstrs((output[type, period] <= maxLoad[type] * ngen[type, period])\n",
    "                              for type in range(nTypes) for period in range(nPeriods))\n",
    "\n",
    "\n",
    "## Demanda\n",
    "meetDemand = model.addConstrs(gp.quicksum(output[type, period] for type in range(nTypes)) >= demand[period]\n",
    "                               for period in range(nPeriods))\n",
    "\n",
    "## Reserva\n",
    "reserve = model.addConstrs(gp.quicksum(maxLoad[type]*ngen[type, period] for type in range(nTypes)) >= 1.15*demand[period]\n",
    "                    for period in range(nPeriods))\n",
    "\n",
    "## Inicio\n",
    "startup0 = model.addConstrs((ngen[type,0] <= maxStart0 + nstart[type,0])\n",
    "                            for type in range(nTypes))\n",
    "\n",
    "startup = model.addConstrs((ngen[type,period] <= ngen[type,period-1] + nstart[type,period])\n",
    "                           for type in range(nTypes) for period in range(1,nPeriods))\n"
   ]
  },
  {
   "cell_type": "code",
   "execution_count": 6,
   "id": "ed53e227",
   "metadata": {},
   "outputs": [],
   "source": [
    "# OBJETIVO\n",
    "\n",
    "active = gp.quicksum(perHourCost[type]*periodHours[period]*ngen[type,period]\n",
    "                    for type in range(nTypes) for period in range(nPeriods))\n",
    "\n",
    "perMwh = gp.quicksum(perMWhCost[type]*periodHours[period]*(output[type,period] - minLoad[type]*ngen[type,period])\n",
    "                       for type in range(nTypes) for period in range(nPeriods))\n",
    "\n",
    "startupObj = gp.quicksum(startupCost[type]*nstart[type,period]\n",
    "                         for type in range(nTypes) for period in range(nPeriods))\n",
    "\n",
    "model.setObjective(active + perMwh + startupObj)"
   ]
  },
  {
   "cell_type": "code",
   "execution_count": 7,
   "id": "740b690b",
   "metadata": {},
   "outputs": [
    {
     "name": "stdout",
     "output_type": "stream",
     "text": [
      "Gurobi Optimizer version 10.0.0 build v10.0.0rc2 (win64)\n",
      "\n",
      "CPU model: 11th Gen Intel(R) Core(TM) i7-1165G7 @ 2.80GHz, instruction set [SSE2|AVX|AVX2|AVX512]\n",
      "Thread count: 4 physical cores, 8 logical processors, using up to 8 threads\n",
      "\n",
      "Optimize a model with 70 rows, 45 columns and 147 nonzeros\n",
      "Model fingerprint: 0xd010fb19\n",
      "Variable types: 15 continuous, 30 integer (0 binary)\n",
      "Coefficient statistics:\n",
      "  Matrix range     [1e+00, 4e+03]\n",
      "  Objective range  [4e+00, 9e+03]\n",
      "  Bounds range     [0e+00, 0e+00]\n",
      "  RHS range        [5e+00, 5e+04]\n",
      "Presolve removed 16 rows and 1 columns\n",
      "Presolve time: 0.00s\n",
      "Presolved: 54 rows, 44 columns, 130 nonzeros\n",
      "Variable types: 0 continuous, 44 integer (0 binary)\n",
      "Found heuristic solution: objective 1123913.3000\n",
      "Found heuristic solution: objective 1084300.0000\n",
      "\n",
      "Root relaxation: objective 9.995143e+05, 23 iterations, 0.00 seconds (0.00 work units)\n",
      "\n",
      "    Nodes    |    Current Node    |     Objective Bounds      |     Work\n",
      " Expl Unexpl |  Obj  Depth IntInf | Incumbent    BestBd   Gap | It/Node Time\n",
      "\n",
      "     0     0 999514.286    0    7 1084300.00 999514.286  7.82%     -    0s\n",
      "H    0     0                    1009430.8000 999514.286  0.98%     -    0s\n",
      "H    0     0                    1006720.0000 999514.286  0.72%     -    0s\n",
      "H    0     0                    1005970.0000 999514.286  0.64%     -    0s\n",
      "H    0     0                    1005697.9000 999514.286  0.61%     -    0s\n",
      "H    0     0                    1002540.0000 999514.286  0.30%     -    0s\n",
      "     0     0     cutoff    0      1002540.00 1002540.00  0.00%     -    0s\n",
      "\n",
      "Cutting planes:\n",
      "  MIR: 4\n",
      "  StrongCG: 1\n",
      "\n",
      "Explored 1 nodes (28 simplex iterations) in 0.03 seconds (0.00 work units)\n",
      "Thread count was 8 (of 8 available processors)\n",
      "\n",
      "Solution count 7: 1.00254e+06 1.0057e+06 1.00597e+06 ... 1.12391e+06\n",
      "\n",
      "Optimal solution found (tolerance 1.00e-04)\n",
      "Best objective 1.002540000000e+06, best bound 1.002540000000e+06, gap 0.0000%\n"
     ]
    }
   ],
   "source": [
    "# Otimização do Gurobi\n",
    "model.write('junk.lp')\n",
    "model.optimize()"
   ]
  },
  {
   "cell_type": "code",
   "execution_count": 8,
   "id": "368e68b3",
   "metadata": {},
   "outputs": [
    {
     "data": {
      "text/html": [
       "<div>\n",
       "<style scoped>\n",
       "    .dataframe tbody tr th:only-of-type {\n",
       "        vertical-align: middle;\n",
       "    }\n",
       "\n",
       "    .dataframe tbody tr th {\n",
       "        vertical-align: top;\n",
       "    }\n",
       "\n",
       "    .dataframe thead th {\n",
       "        text-align: right;\n",
       "    }\n",
       "</style>\n",
       "<table border=\"1\" class=\"dataframe\">\n",
       "  <thead>\n",
       "    <tr style=\"text-align: right;\">\n",
       "      <th></th>\n",
       "      <th>0</th>\n",
       "      <th>1</th>\n",
       "      <th>2</th>\n",
       "      <th>3</th>\n",
       "      <th>4</th>\n",
       "    </tr>\n",
       "  </thead>\n",
       "  <tbody>\n",
       "    <tr>\n",
       "      <th>Tipo 0</th>\n",
       "      <td>12.0</td>\n",
       "      <td>12.0</td>\n",
       "      <td>12.0</td>\n",
       "      <td>12.0</td>\n",
       "      <td>12.0</td>\n",
       "    </tr>\n",
       "    <tr>\n",
       "      <th>Tipo 1</th>\n",
       "      <td>3.0</td>\n",
       "      <td>8.0</td>\n",
       "      <td>8.0</td>\n",
       "      <td>9.0</td>\n",
       "      <td>9.0</td>\n",
       "    </tr>\n",
       "    <tr>\n",
       "      <th>Tipo 2</th>\n",
       "      <td>0.0</td>\n",
       "      <td>0.0</td>\n",
       "      <td>0.0</td>\n",
       "      <td>2.0</td>\n",
       "      <td>0.0</td>\n",
       "    </tr>\n",
       "  </tbody>\n",
       "</table>\n",
       "</div>"
      ],
      "text/plain": [
       "           0     1     2     3     4\n",
       "Tipo 0  12.0  12.0  12.0  12.0  12.0\n",
       "Tipo 1   3.0   8.0   8.0   9.0   9.0\n",
       "Tipo 2   0.0   0.0   0.0   2.0   0.0"
      ]
     },
     "execution_count": 8,
     "metadata": {},
     "output_type": "execute_result"
    }
   ],
   "source": [
    "#ANALISE\n",
    "\n",
    "## Solução otima para o número de geradores que devem ficar ativos em cada periodo. \n",
    "rows = [\"Tipo \" + str(t) for t in range(nTypes)]\n",
    "units = pd.DataFrame(columns=range(nPeriods), index=rows, data=0.0)\n",
    "\n",
    "for t in range(nTypes):\n",
    "    for p in range(nPeriods):\n",
    "        units.loc[\"Tipo \"+str(t), p] = ngen[t,p].x\n",
    "units"
   ]
  },
  {
   "cell_type": "code",
   "execution_count": 9,
   "id": "061af275",
   "metadata": {},
   "outputs": [
    {
     "data": {
      "text/html": [
       "<div>\n",
       "<style scoped>\n",
       "    .dataframe tbody tr th:only-of-type {\n",
       "        vertical-align: middle;\n",
       "    }\n",
       "\n",
       "    .dataframe tbody tr th {\n",
       "        vertical-align: top;\n",
       "    }\n",
       "\n",
       "    .dataframe thead th {\n",
       "        text-align: right;\n",
       "    }\n",
       "</style>\n",
       "<table border=\"1\" class=\"dataframe\">\n",
       "  <thead>\n",
       "    <tr style=\"text-align: right;\">\n",
       "      <th></th>\n",
       "      <th>0</th>\n",
       "      <th>1</th>\n",
       "      <th>2</th>\n",
       "      <th>3</th>\n",
       "      <th>4</th>\n",
       "    </tr>\n",
       "  </thead>\n",
       "  <tbody>\n",
       "    <tr>\n",
       "      <th>Tipo 0</th>\n",
       "      <td>7.0</td>\n",
       "      <td>0.0</td>\n",
       "      <td>0.0</td>\n",
       "      <td>0.0</td>\n",
       "      <td>0.0</td>\n",
       "    </tr>\n",
       "    <tr>\n",
       "      <th>Tipo 1</th>\n",
       "      <td>0.0</td>\n",
       "      <td>5.0</td>\n",
       "      <td>0.0</td>\n",
       "      <td>1.0</td>\n",
       "      <td>0.0</td>\n",
       "    </tr>\n",
       "    <tr>\n",
       "      <th>Tipo 2</th>\n",
       "      <td>0.0</td>\n",
       "      <td>0.0</td>\n",
       "      <td>0.0</td>\n",
       "      <td>2.0</td>\n",
       "      <td>0.0</td>\n",
       "    </tr>\n",
       "  </tbody>\n",
       "</table>\n",
       "</div>"
      ],
      "text/plain": [
       "          0    1    2    3    4\n",
       "Tipo 0  7.0  0.0  0.0  0.0  0.0\n",
       "Tipo 1  0.0  5.0  0.0  1.0  0.0\n",
       "Tipo 2  0.0  0.0  0.0  2.0  0.0"
      ]
     },
     "execution_count": 9,
     "metadata": {},
     "output_type": "execute_result"
    }
   ],
   "source": [
    "## Solução otima para o número de geradores que devem ser ligados em cada periodo.\n",
    "startups = pd.DataFrame(columns=range(nPeriods), index=rows, data=0.0)\n",
    "\n",
    "for t in range(nTypes):\n",
    "    for p in range(nPeriods):\n",
    "        startups.loc[\"Tipo \"+str(t), p] = int(nstart[t,p].x)\n",
    "startups"
   ]
  },
  {
   "cell_type": "code",
   "execution_count": null,
   "id": "66f3c964",
   "metadata": {},
   "outputs": [],
   "source": []
  }
 ],
 "metadata": {
  "kernelspec": {
   "display_name": "Python 3 (ipykernel)",
   "language": "python",
   "name": "python3"
  },
  "language_info": {
   "codemirror_mode": {
    "name": "ipython",
    "version": 3
   },
   "file_extension": ".py",
   "mimetype": "text/x-python",
   "name": "python",
   "nbconvert_exporter": "python",
   "pygments_lexer": "ipython3",
   "version": "3.9.13"
  }
 },
 "nbformat": 4,
 "nbformat_minor": 5
}
